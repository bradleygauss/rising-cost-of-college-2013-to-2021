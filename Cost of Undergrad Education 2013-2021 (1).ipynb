{
 "cells": [
  {
   "cell_type": "markdown",
   "id": "26d093b6",
   "metadata": {},
   "source": [
    "# Average Undergraduate Tuition by State 2013-2021"
   ]
  },
  {
   "cell_type": "markdown",
   "id": "1701ef4e",
   "metadata": {},
   "source": [
    "<i><small>*Note from the author: While there are some basic visualizations to help convey findings, there is an associated dashboard with more detailed and in-depth visualizations available [here](https://public.tableau.com/app/profile/bradley.gauss/viz/wljkefnojwvbekjwafcnaslkeVGQ3OWE/RisingCostofCollege2013-2021).</small></i>"
   ]
  },
  {
   "cell_type": "markdown",
   "id": "85ee489e",
   "metadata": {},
   "source": [
    "### Table of Contents\n",
    "\n",
    "* [Goals](#Goals)\n",
    "* [Data](#Data)\n",
    "    * [Loading the Data](#Loading-the-Data)\n",
    "    * [Preview the Data](#Preview-the-Data)\n",
    "    * [Data Information](#Data-Information)\n",
    "* [Cleaning the Data](#Cleaning-the-Data)\n",
    "* [Data Analysis](#Data-Analysis)\n",
    "    * [Tuition Change Trends](#Tuition-Change-Trends)\n",
    "    * [Tuition by State](#Tuition-by-State)\n",
    "* [Conclusions](#Conclusions)"
   ]
  },
  {
   "cell_type": "markdown",
   "id": "c43bf1a7",
   "metadata": {},
   "source": [
    "### Goals\n",
    "This notebook contains an exploratory analysis on the average cost of undergraduate education in the United States from 2013-2021. The goals for this project include:\n",
    "\n",
    "* Reveal trends in the change of costs over time\n",
    "* Compare costs between public and private institutions\n",
    "* Compare costs among states"
   ]
  },
  {
   "cell_type": "markdown",
   "id": "e04b5642",
   "metadata": {},
   "source": [
    "### Data\n",
    "This data was downlaoded from Kaggle:\n",
    "\n",
    "[Average cost of undergraduate student by state USA](https://www.kaggle.com/datasets/bhargavchirumamilla/average-cost-of-undergraduate-student-by-state-usa)\n",
    "\n",
    "Further details on this dataset can be found by following the link above."
   ]
  },
  {
   "cell_type": "markdown",
   "id": "e73ce5e8",
   "metadata": {},
   "source": [
    "#### Loading the Data\n",
    "This analysis will use the Pandas and SQLite libraries. A database connection is made. The data is loaded into a DataFrame called `costs`, and a preview of the DataFrame is printed. The DataFrame is pushed to the database for analysis using SQL."
   ]
  },
  {
   "cell_type": "code",
   "execution_count": 2,
   "id": "ee8115d6",
   "metadata": {},
   "outputs": [],
   "source": [
    "# import required libraries\n",
    "import pandas as pd\n",
    "import sqlite3"
   ]
  },
  {
   "cell_type": "code",
   "execution_count": 3,
   "id": "bc788451",
   "metadata": {},
   "outputs": [],
   "source": [
    "# create database connection\n",
    "conn = sqlite3.connect('my_jupyter.db')"
   ]
  },
  {
   "cell_type": "code",
   "execution_count": 4,
   "id": "d1811092",
   "metadata": {},
   "outputs": [],
   "source": [
    "# load sql extension\n",
    "%load_ext sql"
   ]
  },
  {
   "cell_type": "code",
   "execution_count": 5,
   "id": "8d43725d",
   "metadata": {},
   "outputs": [],
   "source": [
    "# connect to sql database\n",
    "%sql sqlite:///my_jupyter.db"
   ]
  },
  {
   "cell_type": "code",
   "execution_count": 6,
   "id": "18deb75d",
   "metadata": {
    "scrolled": true
   },
   "outputs": [
    {
     "data": {
      "text/html": [
       "<div>\n",
       "<style scoped>\n",
       "    .dataframe tbody tr th:only-of-type {\n",
       "        vertical-align: middle;\n",
       "    }\n",
       "\n",
       "    .dataframe tbody tr th {\n",
       "        vertical-align: top;\n",
       "    }\n",
       "\n",
       "    .dataframe thead th {\n",
       "        text-align: right;\n",
       "    }\n",
       "</style>\n",
       "<table border=\"1\" class=\"dataframe\">\n",
       "  <thead>\n",
       "    <tr style=\"text-align: right;\">\n",
       "      <th></th>\n",
       "      <th>Year</th>\n",
       "      <th>State</th>\n",
       "      <th>Type</th>\n",
       "      <th>Length</th>\n",
       "      <th>Expense</th>\n",
       "      <th>Value</th>\n",
       "    </tr>\n",
       "  </thead>\n",
       "  <tbody>\n",
       "    <tr>\n",
       "      <th>0</th>\n",
       "      <td>2013</td>\n",
       "      <td>Alabama</td>\n",
       "      <td>Private</td>\n",
       "      <td>4-year</td>\n",
       "      <td>Fees/Tuition</td>\n",
       "      <td>13983</td>\n",
       "    </tr>\n",
       "    <tr>\n",
       "      <th>1</th>\n",
       "      <td>2013</td>\n",
       "      <td>Alabama</td>\n",
       "      <td>Private</td>\n",
       "      <td>4-year</td>\n",
       "      <td>Room/Board</td>\n",
       "      <td>8503</td>\n",
       "    </tr>\n",
       "    <tr>\n",
       "      <th>2</th>\n",
       "      <td>2013</td>\n",
       "      <td>Alabama</td>\n",
       "      <td>Public In-State</td>\n",
       "      <td>2-year</td>\n",
       "      <td>Fees/Tuition</td>\n",
       "      <td>4048</td>\n",
       "    </tr>\n",
       "    <tr>\n",
       "      <th>3</th>\n",
       "      <td>2013</td>\n",
       "      <td>Alabama</td>\n",
       "      <td>Public In-State</td>\n",
       "      <td>4-year</td>\n",
       "      <td>Fees/Tuition</td>\n",
       "      <td>8073</td>\n",
       "    </tr>\n",
       "    <tr>\n",
       "      <th>4</th>\n",
       "      <td>2013</td>\n",
       "      <td>Alabama</td>\n",
       "      <td>Public In-State</td>\n",
       "      <td>4-year</td>\n",
       "      <td>Room/Board</td>\n",
       "      <td>8473</td>\n",
       "    </tr>\n",
       "  </tbody>\n",
       "</table>\n",
       "</div>"
      ],
      "text/plain": [
       "   Year    State             Type  Length       Expense  Value\n",
       "0  2013  Alabama          Private  4-year  Fees/Tuition  13983\n",
       "1  2013  Alabama          Private  4-year    Room/Board   8503\n",
       "2  2013  Alabama  Public In-State  2-year  Fees/Tuition   4048\n",
       "3  2013  Alabama  Public In-State  4-year  Fees/Tuition   8073\n",
       "4  2013  Alabama  Public In-State  4-year    Room/Board   8473"
      ]
     },
     "execution_count": 6,
     "metadata": {},
     "output_type": "execute_result"
    }
   ],
   "source": [
    "# load the data\n",
    "cost_breakdown = pd.read_csv('edu_costs.csv')\n",
    "\n",
    "# preview the data\n",
    "cost_breakdown.head()"
   ]
  },
  {
   "cell_type": "markdown",
   "id": "1ecdcd7c",
   "metadata": {},
   "source": [
    "In addition to expense types, this analysis is also interested in the total cost of attendance. A new DataFrame will be created that contains an aggregated column showing the total cost of attendance for each group. It groups the data by `Year`, `State`, `Type`, and `Length`. An aggregate column that combines costs of fees/tuition and room/board is created."
   ]
  },
  {
   "cell_type": "code",
   "execution_count": 7,
   "id": "b2efc18c",
   "metadata": {},
   "outputs": [],
   "source": [
    "# group the data\n",
    "costs = cost_breakdown.groupby(['Year', 'State', 'Type', 'Length']).agg({'Value': 'sum'}).reset_index()\n",
    "costs.rename(columns={'Value': 'Total Cost'}, inplace=True)"
   ]
  },
  {
   "cell_type": "code",
   "execution_count": 8,
   "id": "6f2b2965",
   "metadata": {},
   "outputs": [
    {
     "data": {
      "text/html": [
       "<div>\n",
       "<style scoped>\n",
       "    .dataframe tbody tr th:only-of-type {\n",
       "        vertical-align: middle;\n",
       "    }\n",
       "\n",
       "    .dataframe tbody tr th {\n",
       "        vertical-align: top;\n",
       "    }\n",
       "\n",
       "    .dataframe thead th {\n",
       "        text-align: right;\n",
       "    }\n",
       "</style>\n",
       "<table border=\"1\" class=\"dataframe\">\n",
       "  <thead>\n",
       "    <tr style=\"text-align: right;\">\n",
       "      <th></th>\n",
       "      <th>Year</th>\n",
       "      <th>State</th>\n",
       "      <th>Type</th>\n",
       "      <th>Length</th>\n",
       "      <th>Total Cost</th>\n",
       "    </tr>\n",
       "  </thead>\n",
       "  <tbody>\n",
       "    <tr>\n",
       "      <th>0</th>\n",
       "      <td>2013</td>\n",
       "      <td>Alabama</td>\n",
       "      <td>Private</td>\n",
       "      <td>4-year</td>\n",
       "      <td>22486</td>\n",
       "    </tr>\n",
       "    <tr>\n",
       "      <th>1</th>\n",
       "      <td>2013</td>\n",
       "      <td>Alabama</td>\n",
       "      <td>Public In-State</td>\n",
       "      <td>2-year</td>\n",
       "      <td>4048</td>\n",
       "    </tr>\n",
       "    <tr>\n",
       "      <th>2</th>\n",
       "      <td>2013</td>\n",
       "      <td>Alabama</td>\n",
       "      <td>Public In-State</td>\n",
       "      <td>4-year</td>\n",
       "      <td>16546</td>\n",
       "    </tr>\n",
       "    <tr>\n",
       "      <th>3</th>\n",
       "      <td>2013</td>\n",
       "      <td>Alabama</td>\n",
       "      <td>Public Out-of-State</td>\n",
       "      <td>2-year</td>\n",
       "      <td>7736</td>\n",
       "    </tr>\n",
       "    <tr>\n",
       "      <th>4</th>\n",
       "      <td>2013</td>\n",
       "      <td>Alabama</td>\n",
       "      <td>Public Out-of-State</td>\n",
       "      <td>4-year</td>\n",
       "      <td>28853</td>\n",
       "    </tr>\n",
       "  </tbody>\n",
       "</table>\n",
       "</div>"
      ],
      "text/plain": [
       "   Year    State                 Type  Length  Total Cost\n",
       "0  2013  Alabama              Private  4-year       22486\n",
       "1  2013  Alabama      Public In-State  2-year        4048\n",
       "2  2013  Alabama      Public In-State  4-year       16546\n",
       "3  2013  Alabama  Public Out-of-State  2-year        7736\n",
       "4  2013  Alabama  Public Out-of-State  4-year       28853"
      ]
     },
     "execution_count": 8,
     "metadata": {},
     "output_type": "execute_result"
    }
   ],
   "source": [
    "costs.head()"
   ]
  },
  {
   "cell_type": "markdown",
   "id": "70803455",
   "metadata": {},
   "source": [
    "#### Preview the Data\n",
    "We need to understand the data we are working with:\n",
    "* Understand columns and their datatypes\n",
    "* Check for missing data\n",
    "* Check shape of data"
   ]
  },
  {
   "cell_type": "code",
   "execution_count": 219,
   "id": "13e6073b",
   "metadata": {},
   "outputs": [
    {
     "data": {
      "text/plain": [
       "Year           int64\n",
       "State         object\n",
       "Type          object\n",
       "Length        object\n",
       "Total Cost     int64\n",
       "dtype: object"
      ]
     },
     "execution_count": 219,
     "metadata": {},
     "output_type": "execute_result"
    }
   ],
   "source": [
    "costs.dtypes"
   ]
  },
  {
   "cell_type": "code",
   "execution_count": 220,
   "id": "2fe40282",
   "metadata": {},
   "outputs": [
    {
     "data": {
      "text/plain": [
       "(2248, 5)"
      ]
     },
     "execution_count": 220,
     "metadata": {},
     "output_type": "execute_result"
    }
   ],
   "source": [
    "# check shape of data\n",
    "costs.shape"
   ]
  },
  {
   "cell_type": "code",
   "execution_count": 221,
   "id": "6ae3502c",
   "metadata": {},
   "outputs": [
    {
     "name": "stdout",
     "output_type": "stream",
     "text": [
      "<class 'pandas.core.frame.DataFrame'>\n",
      "RangeIndex: 2248 entries, 0 to 2247\n",
      "Data columns (total 5 columns):\n",
      " #   Column      Non-Null Count  Dtype \n",
      "---  ------      --------------  ----- \n",
      " 0   Year        2248 non-null   int64 \n",
      " 1   State       2248 non-null   object\n",
      " 2   Type        2248 non-null   object\n",
      " 3   Length      2248 non-null   object\n",
      " 4   Total Cost  2248 non-null   int64 \n",
      "dtypes: int64(2), object(3)\n",
      "memory usage: 87.9+ KB\n"
     ]
    }
   ],
   "source": [
    "# check for missing data\n",
    "costs.info()"
   ]
  },
  {
   "cell_type": "markdown",
   "id": "ff44a7c9",
   "metadata": {},
   "source": [
    "#### Data Information\n",
    "A quick inspection of the data revealed:\n",
    "* There are 5 columns and 2248 rows\n",
    "* There is no missing data\n",
    "* The data contains objects and int datatypes"
   ]
  },
  {
   "cell_type": "markdown",
   "id": "a0764289",
   "metadata": {},
   "source": [
    "### Cleaning the Data\n",
    "The data is relatively clean and ready for analysis. There are only two things to be first:\n",
    "* change the `Year` datatype from int to object (it is categorical)\n",
    "* change column names to lowercase and snake case format"
   ]
  },
  {
   "cell_type": "code",
   "execution_count": 222,
   "id": "152f4fab",
   "metadata": {},
   "outputs": [],
   "source": [
    "# change the year column dtype form int to object\n",
    "costs['Year'] = costs['Year'].astype('object')"
   ]
  },
  {
   "cell_type": "code",
   "execution_count": 223,
   "id": "59ed5f7f",
   "metadata": {},
   "outputs": [
    {
     "data": {
      "text/plain": [
       "Year          object\n",
       "State         object\n",
       "Type          object\n",
       "Length        object\n",
       "Total Cost     int64\n",
       "dtype: object"
      ]
     },
     "execution_count": 223,
     "metadata": {},
     "output_type": "execute_result"
    }
   ],
   "source": [
    "# verfiy the change\n",
    "costs.dtypes"
   ]
  },
  {
   "cell_type": "code",
   "execution_count": 239,
   "id": "ed2f4409",
   "metadata": {},
   "outputs": [],
   "source": [
    "# rename columns using a lambda regex function\n",
    "costs = costs.rename(columns=lambda x: x.lower().replace(' ', '_'))"
   ]
  },
  {
   "cell_type": "code",
   "execution_count": 240,
   "id": "68c40a45",
   "metadata": {},
   "outputs": [
    {
     "data": {
      "text/html": [
       "<div>\n",
       "<style scoped>\n",
       "    .dataframe tbody tr th:only-of-type {\n",
       "        vertical-align: middle;\n",
       "    }\n",
       "\n",
       "    .dataframe tbody tr th {\n",
       "        vertical-align: top;\n",
       "    }\n",
       "\n",
       "    .dataframe thead th {\n",
       "        text-align: right;\n",
       "    }\n",
       "</style>\n",
       "<table border=\"1\" class=\"dataframe\">\n",
       "  <thead>\n",
       "    <tr style=\"text-align: right;\">\n",
       "      <th></th>\n",
       "      <th>year</th>\n",
       "      <th>state</th>\n",
       "      <th>type</th>\n",
       "      <th>length</th>\n",
       "      <th>total_cost</th>\n",
       "    </tr>\n",
       "  </thead>\n",
       "  <tbody>\n",
       "    <tr>\n",
       "      <th>0</th>\n",
       "      <td>2013</td>\n",
       "      <td>Alabama</td>\n",
       "      <td>Private</td>\n",
       "      <td>4-year</td>\n",
       "      <td>22486</td>\n",
       "    </tr>\n",
       "    <tr>\n",
       "      <th>1</th>\n",
       "      <td>2013</td>\n",
       "      <td>Alabama</td>\n",
       "      <td>Public In-State</td>\n",
       "      <td>2-year</td>\n",
       "      <td>4048</td>\n",
       "    </tr>\n",
       "    <tr>\n",
       "      <th>2</th>\n",
       "      <td>2013</td>\n",
       "      <td>Alabama</td>\n",
       "      <td>Public In-State</td>\n",
       "      <td>4-year</td>\n",
       "      <td>16546</td>\n",
       "    </tr>\n",
       "    <tr>\n",
       "      <th>3</th>\n",
       "      <td>2013</td>\n",
       "      <td>Alabama</td>\n",
       "      <td>Public Out-of-State</td>\n",
       "      <td>2-year</td>\n",
       "      <td>7736</td>\n",
       "    </tr>\n",
       "    <tr>\n",
       "      <th>4</th>\n",
       "      <td>2013</td>\n",
       "      <td>Alabama</td>\n",
       "      <td>Public Out-of-State</td>\n",
       "      <td>4-year</td>\n",
       "      <td>28853</td>\n",
       "    </tr>\n",
       "  </tbody>\n",
       "</table>\n",
       "</div>"
      ],
      "text/plain": [
       "   year    state                 type  length  total_cost\n",
       "0  2013  Alabama              Private  4-year       22486\n",
       "1  2013  Alabama      Public In-State  2-year        4048\n",
       "2  2013  Alabama      Public In-State  4-year       16546\n",
       "3  2013  Alabama  Public Out-of-State  2-year        7736\n",
       "4  2013  Alabama  Public Out-of-State  4-year       28853"
      ]
     },
     "execution_count": 240,
     "metadata": {},
     "output_type": "execute_result"
    }
   ],
   "source": [
    "# verify the renaming has been done properly\n",
    "costs.head()"
   ]
  },
  {
   "cell_type": "markdown",
   "id": "2dfa7012",
   "metadata": {},
   "source": [
    "### Data Analysis\n",
    "The data is ready for analysis. The analysis is done in 2 phases. The first indentifies trends in tuition cost changes among several variables. The second analyzes costs by state.\n",
    "\n",
    "The DataFrame is pushed to the database for SQL access."
   ]
  },
  {
   "cell_type": "markdown",
   "id": "72542ff2",
   "metadata": {},
   "source": [
    "#### Tuition Change Trends\n",
    "Questions this portion of analysis answers:\n",
    "\n",
    "What is the trend of tuition costs:\n",
    "* at all institutions from 2013-2021?\n",
    "* at private institutions from 2013-2021?\n",
    "* at public institutions from 2013-2021?\n",
    "* at public 2-year institutions from 2013-2021?\n",
    "* at public 4-year institutions from 2013-2021?"
   ]
  },
  {
   "cell_type": "code",
   "execution_count": 241,
   "id": "d4b16c3a",
   "metadata": {},
   "outputs": [
    {
     "data": {
      "text/plain": [
       "2248"
      ]
     },
     "execution_count": 241,
     "metadata": {},
     "output_type": "execute_result"
    }
   ],
   "source": [
    "# push costs df to database\n",
    "costs.to_sql('costs', conn)"
   ]
  },
  {
   "cell_type": "markdown",
   "id": "c506095c",
   "metadata": {},
   "source": [
    "Print a preview of the table used for this portion of analysis."
   ]
  },
  {
   "cell_type": "code",
   "execution_count": 242,
   "id": "6c2b0b72",
   "metadata": {},
   "outputs": [
    {
     "name": "stdout",
     "output_type": "stream",
     "text": [
      "   sqlite:///'costs.db'\n",
      "   sqlite:///'jupyter_sqlite.db'\n",
      " * sqlite:///my_jupyter.db\n",
      "Done.\n"
     ]
    },
    {
     "data": {
      "text/html": [
       "<table>\n",
       "    <thead>\n",
       "        <tr>\n",
       "            <th>index</th>\n",
       "            <th>year</th>\n",
       "            <th>state</th>\n",
       "            <th>type</th>\n",
       "            <th>length</th>\n",
       "            <th>total_cost</th>\n",
       "        </tr>\n",
       "    </thead>\n",
       "    <tbody>\n",
       "        <tr>\n",
       "            <td>0</td>\n",
       "            <td>2013</td>\n",
       "            <td>Alabama</td>\n",
       "            <td>Private</td>\n",
       "            <td>4-year</td>\n",
       "            <td>22486</td>\n",
       "        </tr>\n",
       "        <tr>\n",
       "            <td>1</td>\n",
       "            <td>2013</td>\n",
       "            <td>Alabama</td>\n",
       "            <td>Public In-State</td>\n",
       "            <td>2-year</td>\n",
       "            <td>4048</td>\n",
       "        </tr>\n",
       "        <tr>\n",
       "            <td>2</td>\n",
       "            <td>2013</td>\n",
       "            <td>Alabama</td>\n",
       "            <td>Public In-State</td>\n",
       "            <td>4-year</td>\n",
       "            <td>16546</td>\n",
       "        </tr>\n",
       "        <tr>\n",
       "            <td>3</td>\n",
       "            <td>2013</td>\n",
       "            <td>Alabama</td>\n",
       "            <td>Public Out-of-State</td>\n",
       "            <td>2-year</td>\n",
       "            <td>7736</td>\n",
       "        </tr>\n",
       "        <tr>\n",
       "            <td>4</td>\n",
       "            <td>2013</td>\n",
       "            <td>Alabama</td>\n",
       "            <td>Public Out-of-State</td>\n",
       "            <td>4-year</td>\n",
       "            <td>28853</td>\n",
       "        </tr>\n",
       "    </tbody>\n",
       "</table>"
      ],
      "text/plain": [
       "[(0, 2013, 'Alabama', 'Private', '4-year', 22486),\n",
       " (1, 2013, 'Alabama', 'Public In-State', '2-year', 4048),\n",
       " (2, 2013, 'Alabama', 'Public In-State', '4-year', 16546),\n",
       " (3, 2013, 'Alabama', 'Public Out-of-State', '2-year', 7736),\n",
       " (4, 2013, 'Alabama', 'Public Out-of-State', '4-year', 28853)]"
      ]
     },
     "execution_count": 242,
     "metadata": {},
     "output_type": "execute_result"
    }
   ],
   "source": [
    "%%sql\n",
    "SELECT *\n",
    "FROM costs\n",
    "LIMIT 5;"
   ]
  },
  {
   "cell_type": "markdown",
   "id": "3daf2634",
   "metadata": {},
   "source": [
    "<b>Question:</b> What is the trend of tuition costs at all institutions from 2013 to 2021?"
   ]
  },
  {
   "cell_type": "code",
   "execution_count": 261,
   "id": "4996a098",
   "metadata": {
    "scrolled": false
   },
   "outputs": [
    {
     "name": "stdout",
     "output_type": "stream",
     "text": [
      "   sqlite:///'costs.db'\n",
      "   sqlite:///'jupyter_sqlite.db'\n",
      " * sqlite:///my_jupyter.db\n",
      "Done.\n"
     ]
    },
    {
     "data": {
      "text/html": [
       "<table>\n",
       "    <thead>\n",
       "        <tr>\n",
       "            <th>year</th>\n",
       "            <th>avg_total_cost</th>\n",
       "            <th>percent_change</th>\n",
       "        </tr>\n",
       "    </thead>\n",
       "    <tbody>\n",
       "        <tr>\n",
       "            <td>2013</td>\n",
       "            <td>18132.0</td>\n",
       "            <td>None</td>\n",
       "        </tr>\n",
       "        <tr>\n",
       "            <td>2014</td>\n",
       "            <td>18767.0</td>\n",
       "            <td>3.5</td>\n",
       "        </tr>\n",
       "        <tr>\n",
       "            <td>2015</td>\n",
       "            <td>19305.0</td>\n",
       "            <td>2.87</td>\n",
       "        </tr>\n",
       "        <tr>\n",
       "            <td>2016</td>\n",
       "            <td>19984.0</td>\n",
       "            <td>3.52</td>\n",
       "        </tr>\n",
       "        <tr>\n",
       "            <td>2017</td>\n",
       "            <td>20737.0</td>\n",
       "            <td>3.77</td>\n",
       "        </tr>\n",
       "        <tr>\n",
       "            <td>2018</td>\n",
       "            <td>21590.0</td>\n",
       "            <td>4.11</td>\n",
       "        </tr>\n",
       "        <tr>\n",
       "            <td>2019</td>\n",
       "            <td>22385.0</td>\n",
       "            <td>3.68</td>\n",
       "        </tr>\n",
       "        <tr>\n",
       "            <td>2020</td>\n",
       "            <td>22984.0</td>\n",
       "            <td>2.67</td>\n",
       "        </tr>\n",
       "        <tr>\n",
       "            <td>2021</td>\n",
       "            <td>21334.0</td>\n",
       "            <td>-7.18</td>\n",
       "        </tr>\n",
       "    </tbody>\n",
       "</table>"
      ],
      "text/plain": [
       "[(2013, 18132.0, None),\n",
       " (2014, 18767.0, 3.5),\n",
       " (2015, 19305.0, 2.87),\n",
       " (2016, 19984.0, 3.52),\n",
       " (2017, 20737.0, 3.77),\n",
       " (2018, 21590.0, 4.11),\n",
       " (2019, 22385.0, 3.68),\n",
       " (2020, 22984.0, 2.67),\n",
       " (2021, 21334.0, -7.18)]"
      ]
     },
     "execution_count": 261,
     "metadata": {},
     "output_type": "execute_result"
    }
   ],
   "source": [
    "%%sql\n",
    "SELECT\n",
    "    year, \n",
    "    ROUND(AVG(total_cost)) AS avg_total_cost,\n",
    "    ROUND(((AVG(total_cost) - LAG(AVG(total_cost)) OVER (ORDER BY year)) / LAG(AVG(total_cost)) OVER (ORDER BY year)) * 100, 2) AS percent_change\n",
    "FROM costs\n",
    "GROUP BY year;"
   ]
  },
  {
   "cell_type": "markdown",
   "id": "72921301",
   "metadata": {},
   "source": [
    "<b>Question:</b> What is the trend of tuition costs at private institutions from 2013 to 2021?"
   ]
  },
  {
   "cell_type": "code",
   "execution_count": 259,
   "id": "f5ba44b6",
   "metadata": {},
   "outputs": [
    {
     "name": "stdout",
     "output_type": "stream",
     "text": [
      "   sqlite:///'costs.db'\n",
      "   sqlite:///'jupyter_sqlite.db'\n",
      " * sqlite:///my_jupyter.db\n",
      "Done.\n"
     ]
    },
    {
     "data": {
      "text/html": [
       "<table>\n",
       "    <thead>\n",
       "        <tr>\n",
       "            <th>year</th>\n",
       "            <th>avg_total_cost</th>\n",
       "            <th>percent_change</th>\n",
       "        </tr>\n",
       "    </thead>\n",
       "    <tbody>\n",
       "        <tr>\n",
       "            <td>2013</td>\n",
       "            <td>32326.0</td>\n",
       "            <td>None</td>\n",
       "        </tr>\n",
       "        <tr>\n",
       "            <td>2014</td>\n",
       "            <td>33372.0</td>\n",
       "            <td>3.24</td>\n",
       "        </tr>\n",
       "        <tr>\n",
       "            <td>2015</td>\n",
       "            <td>34398.0</td>\n",
       "            <td>3.07</td>\n",
       "        </tr>\n",
       "        <tr>\n",
       "            <td>2016</td>\n",
       "            <td>35732.0</td>\n",
       "            <td>3.88</td>\n",
       "        </tr>\n",
       "        <tr>\n",
       "            <td>2017</td>\n",
       "            <td>37250.0</td>\n",
       "            <td>4.25</td>\n",
       "        </tr>\n",
       "        <tr>\n",
       "            <td>2018</td>\n",
       "            <td>39077.0</td>\n",
       "            <td>4.91</td>\n",
       "        </tr>\n",
       "        <tr>\n",
       "            <td>2019</td>\n",
       "            <td>40492.0</td>\n",
       "            <td>3.62</td>\n",
       "        </tr>\n",
       "        <tr>\n",
       "            <td>2020</td>\n",
       "            <td>41900.0</td>\n",
       "            <td>3.48</td>\n",
       "        </tr>\n",
       "        <tr>\n",
       "            <td>2021</td>\n",
       "            <td>42462.0</td>\n",
       "            <td>1.34</td>\n",
       "        </tr>\n",
       "    </tbody>\n",
       "</table>"
      ],
      "text/plain": [
       "[(2013, 32326.0, None),\n",
       " (2014, 33372.0, 3.24),\n",
       " (2015, 34398.0, 3.07),\n",
       " (2016, 35732.0, 3.88),\n",
       " (2017, 37250.0, 4.25),\n",
       " (2018, 39077.0, 4.91),\n",
       " (2019, 40492.0, 3.62),\n",
       " (2020, 41900.0, 3.48),\n",
       " (2021, 42462.0, 1.34)]"
      ]
     },
     "execution_count": 259,
     "metadata": {},
     "output_type": "execute_result"
    }
   ],
   "source": [
    "%%sql\n",
    "SELECT\n",
    "    year, \n",
    "    ROUND(AVG(total_cost)) AS avg_total_cost,\n",
    "    ROUND(((AVG(total_cost) - LAG(AVG(total_cost)) OVER (ORDER BY year)) / LAG(AVG(total_cost)) OVER (ORDER BY year)) * 100, 2) AS percent_change\n",
    "FROM costs\n",
    "WHERE type LIKE 'Pr%'\n",
    "GROUP BY year;"
   ]
  },
  {
   "cell_type": "markdown",
   "id": "d44acbcd",
   "metadata": {},
   "source": [
    "<b>Question:</b> What is the trend of tuition costs at public institutions from 2013 to 2021?"
   ]
  },
  {
   "cell_type": "code",
   "execution_count": 260,
   "id": "c9820ffe",
   "metadata": {},
   "outputs": [
    {
     "name": "stdout",
     "output_type": "stream",
     "text": [
      "   sqlite:///'costs.db'\n",
      "   sqlite:///'jupyter_sqlite.db'\n",
      " * sqlite:///my_jupyter.db\n",
      "Done.\n"
     ]
    },
    {
     "data": {
      "text/html": [
       "<table>\n",
       "    <thead>\n",
       "        <tr>\n",
       "            <th>year</th>\n",
       "            <th>avg_total_cost</th>\n",
       "            <th>percent_change</th>\n",
       "        </tr>\n",
       "    </thead>\n",
       "    <tbody>\n",
       "        <tr>\n",
       "            <td>2013</td>\n",
       "            <td>14548.0</td>\n",
       "            <td>None</td>\n",
       "        </tr>\n",
       "        <tr>\n",
       "            <td>2014</td>\n",
       "            <td>15079.0</td>\n",
       "            <td>3.65</td>\n",
       "        </tr>\n",
       "        <tr>\n",
       "            <td>2015</td>\n",
       "            <td>15494.0</td>\n",
       "            <td>2.75</td>\n",
       "        </tr>\n",
       "        <tr>\n",
       "            <td>2016</td>\n",
       "            <td>16008.0</td>\n",
       "            <td>3.32</td>\n",
       "        </tr>\n",
       "        <tr>\n",
       "            <td>2017</td>\n",
       "            <td>16527.0</td>\n",
       "            <td>3.24</td>\n",
       "        </tr>\n",
       "        <tr>\n",
       "            <td>2018</td>\n",
       "            <td>17174.0</td>\n",
       "            <td>3.92</td>\n",
       "        </tr>\n",
       "        <tr>\n",
       "            <td>2019</td>\n",
       "            <td>17766.0</td>\n",
       "            <td>3.45</td>\n",
       "        </tr>\n",
       "        <tr>\n",
       "            <td>2020</td>\n",
       "            <td>18158.0</td>\n",
       "            <td>2.21</td>\n",
       "        </tr>\n",
       "        <tr>\n",
       "            <td>2021</td>\n",
       "            <td>15917.0</td>\n",
       "            <td>-12.34</td>\n",
       "        </tr>\n",
       "    </tbody>\n",
       "</table>"
      ],
      "text/plain": [
       "[(2013, 14548.0, None),\n",
       " (2014, 15079.0, 3.65),\n",
       " (2015, 15494.0, 2.75),\n",
       " (2016, 16008.0, 3.32),\n",
       " (2017, 16527.0, 3.24),\n",
       " (2018, 17174.0, 3.92),\n",
       " (2019, 17766.0, 3.45),\n",
       " (2020, 18158.0, 2.21),\n",
       " (2021, 15917.0, -12.34)]"
      ]
     },
     "execution_count": 260,
     "metadata": {},
     "output_type": "execute_result"
    }
   ],
   "source": [
    "%%sql\n",
    "SELECT\n",
    "    year, \n",
    "    ROUND(AVG(total_cost)) AS avg_total_cost,\n",
    "    ROUND(((AVG(total_cost) - LAG(AVG(total_cost)) OVER (ORDER BY year)) / LAG(AVG(total_cost)) OVER (ORDER BY year)) * 100, 2) AS percent_change\n",
    "FROM costs\n",
    "WHERE type LIKE 'Pu%'\n",
    "GROUP BY year;"
   ]
  },
  {
   "cell_type": "markdown",
   "id": "d3d7fbe5",
   "metadata": {},
   "source": [
    "<b>Question:</b> What is the trend of tuition costs between 2 and 4 year public institutions from 2013 to 2021?"
   ]
  },
  {
   "cell_type": "code",
   "execution_count": 265,
   "id": "b9a081f6",
   "metadata": {},
   "outputs": [
    {
     "name": "stdout",
     "output_type": "stream",
     "text": [
      "   sqlite:///'costs.db'\n",
      "   sqlite:///'jupyter_sqlite.db'\n",
      " * sqlite:///my_jupyter.db\n",
      "Done.\n"
     ]
    },
    {
     "data": {
      "text/html": [
       "<table>\n",
       "    <thead>\n",
       "        <tr>\n",
       "            <th>year</th>\n",
       "            <th>length</th>\n",
       "            <th>avg_total_cost</th>\n",
       "            <th>percent_change</th>\n",
       "        </tr>\n",
       "    </thead>\n",
       "    <tbody>\n",
       "        <tr>\n",
       "            <td>2013</td>\n",
       "            <td>2-year</td>\n",
       "            <td>5478.0</td>\n",
       "            <td>None</td>\n",
       "        </tr>\n",
       "        <tr>\n",
       "            <td>2014</td>\n",
       "            <td>2-year</td>\n",
       "            <td>5677.0</td>\n",
       "            <td>3.62</td>\n",
       "        </tr>\n",
       "        <tr>\n",
       "            <td>2015</td>\n",
       "            <td>2-year</td>\n",
       "            <td>5773.0</td>\n",
       "            <td>1.7</td>\n",
       "        </tr>\n",
       "        <tr>\n",
       "            <td>2016</td>\n",
       "            <td>2-year</td>\n",
       "            <td>5949.0</td>\n",
       "            <td>3.04</td>\n",
       "        </tr>\n",
       "        <tr>\n",
       "            <td>2017</td>\n",
       "            <td>2-year</td>\n",
       "            <td>6103.0</td>\n",
       "            <td>2.6</td>\n",
       "        </tr>\n",
       "        <tr>\n",
       "            <td>2018</td>\n",
       "            <td>2-year</td>\n",
       "            <td>6348.0</td>\n",
       "            <td>4.01</td>\n",
       "        </tr>\n",
       "        <tr>\n",
       "            <td>2019</td>\n",
       "            <td>2-year</td>\n",
       "            <td>6493.0</td>\n",
       "            <td>2.29</td>\n",
       "        </tr>\n",
       "        <tr>\n",
       "            <td>2020</td>\n",
       "            <td>2-year</td>\n",
       "            <td>6560.0</td>\n",
       "            <td>1.03</td>\n",
       "        </tr>\n",
       "        <tr>\n",
       "            <td>2021</td>\n",
       "            <td>2-year</td>\n",
       "            <td>6676.0</td>\n",
       "            <td>1.76</td>\n",
       "        </tr>\n",
       "    </tbody>\n",
       "</table>"
      ],
      "text/plain": [
       "[(2013, '2-year', 5478.0, None),\n",
       " (2014, '2-year', 5677.0, 3.62),\n",
       " (2015, '2-year', 5773.0, 1.7),\n",
       " (2016, '2-year', 5949.0, 3.04),\n",
       " (2017, '2-year', 6103.0, 2.6),\n",
       " (2018, '2-year', 6348.0, 4.01),\n",
       " (2019, '2-year', 6493.0, 2.29),\n",
       " (2020, '2-year', 6560.0, 1.03),\n",
       " (2021, '2-year', 6676.0, 1.76)]"
      ]
     },
     "execution_count": 265,
     "metadata": {},
     "output_type": "execute_result"
    }
   ],
   "source": [
    "%%sql\n",
    "SELECT\n",
    "    year,\n",
    "    length,\n",
    "    ROUND(AVG(total_cost)) AS avg_total_cost,\n",
    "    ROUND(((AVG(total_cost) - LAG(AVG(total_cost)) OVER (ORDER BY year)) / LAG(AVG(total_cost)) OVER (ORDER BY year)) * 100, 2) AS percent_change\n",
    "FROM costs\n",
    "WHERE type LIKE 'Pu%' AND length LIKE '2%'\n",
    "GROUP BY year;"
   ]
  },
  {
   "cell_type": "code",
   "execution_count": 266,
   "id": "c67ca05c",
   "metadata": {
    "scrolled": true
   },
   "outputs": [
    {
     "name": "stdout",
     "output_type": "stream",
     "text": [
      "   sqlite:///'costs.db'\n",
      "   sqlite:///'jupyter_sqlite.db'\n",
      " * sqlite:///my_jupyter.db\n",
      "Done.\n"
     ]
    },
    {
     "data": {
      "text/html": [
       "<table>\n",
       "    <thead>\n",
       "        <tr>\n",
       "            <th>year</th>\n",
       "            <th>length</th>\n",
       "            <th>avg_total_cost</th>\n",
       "            <th>percent_change</th>\n",
       "        </tr>\n",
       "    </thead>\n",
       "    <tbody>\n",
       "        <tr>\n",
       "            <td>2013</td>\n",
       "            <td>4-year</td>\n",
       "            <td>23441.0</td>\n",
       "            <td>None</td>\n",
       "        </tr>\n",
       "        <tr>\n",
       "            <td>2014</td>\n",
       "            <td>4-year</td>\n",
       "            <td>24297.0</td>\n",
       "            <td>3.65</td>\n",
       "        </tr>\n",
       "        <tr>\n",
       "            <td>2015</td>\n",
       "            <td>4-year</td>\n",
       "            <td>25025.0</td>\n",
       "            <td>2.99</td>\n",
       "        </tr>\n",
       "        <tr>\n",
       "            <td>2016</td>\n",
       "            <td>4-year</td>\n",
       "            <td>25871.0</td>\n",
       "            <td>3.38</td>\n",
       "        </tr>\n",
       "        <tr>\n",
       "            <td>2017</td>\n",
       "            <td>4-year</td>\n",
       "            <td>26541.0</td>\n",
       "            <td>2.59</td>\n",
       "        </tr>\n",
       "        <tr>\n",
       "            <td>2018</td>\n",
       "            <td>4-year</td>\n",
       "            <td>27363.0</td>\n",
       "            <td>3.1</td>\n",
       "        </tr>\n",
       "        <tr>\n",
       "            <td>2019</td>\n",
       "            <td>4-year</td>\n",
       "            <td>28154.0</td>\n",
       "            <td>2.89</td>\n",
       "        </tr>\n",
       "        <tr>\n",
       "            <td>2020</td>\n",
       "            <td>4-year</td>\n",
       "            <td>28846.0</td>\n",
       "            <td>2.46</td>\n",
       "        </tr>\n",
       "        <tr>\n",
       "            <td>2021</td>\n",
       "            <td>4-year</td>\n",
       "            <td>24517.0</td>\n",
       "            <td>-15.01</td>\n",
       "        </tr>\n",
       "    </tbody>\n",
       "</table>"
      ],
      "text/plain": [
       "[(2013, '4-year', 23441.0, None),\n",
       " (2014, '4-year', 24297.0, 3.65),\n",
       " (2015, '4-year', 25025.0, 2.99),\n",
       " (2016, '4-year', 25871.0, 3.38),\n",
       " (2017, '4-year', 26541.0, 2.59),\n",
       " (2018, '4-year', 27363.0, 3.1),\n",
       " (2019, '4-year', 28154.0, 2.89),\n",
       " (2020, '4-year', 28846.0, 2.46),\n",
       " (2021, '4-year', 24517.0, -15.01)]"
      ]
     },
     "execution_count": 266,
     "metadata": {},
     "output_type": "execute_result"
    }
   ],
   "source": [
    "%%sql\n",
    "SELECT\n",
    "    year,\n",
    "    length,\n",
    "    ROUND(AVG(total_cost)) AS avg_total_cost,\n",
    "    ROUND(((AVG(total_cost) - LAG(AVG(total_cost)) OVER (ORDER BY year)) / LAG(AVG(total_cost)) OVER (ORDER BY year)) * 100, 2) AS percent_change\n",
    "FROM costs\n",
    "WHERE type LIKE 'Pu%' AND length LIKE '4%'\n",
    "GROUP BY year;"
   ]
  },
  {
   "cell_type": "markdown",
   "id": "1253b902",
   "metadata": {},
   "source": [
    "#### Tuition by State\n",
    "This phase of analysis includes a deeper dive into trends at a more granular level. It answers questions like:\n",
    "* Which state has the least/most expensive undergraduate tuition?\n",
    "* Which state has the least/most expensive 2 and 4 year programs?\n",
    "\n",
    "It will also calculate rate of change YOY for individual states."
   ]
  },
  {
   "cell_type": "code",
   "execution_count": 287,
   "id": "d431b6cb",
   "metadata": {
    "scrolled": false
   },
   "outputs": [
    {
     "name": "stdout",
     "output_type": "stream",
     "text": [
      "   sqlite:///'costs.db'\n",
      "   sqlite:///'jupyter_sqlite.db'\n",
      " * sqlite:///my_jupyter.db\n",
      "Done.\n"
     ]
    },
    {
     "data": {
      "text/html": [
       "<table>\n",
       "    <thead>\n",
       "        <tr>\n",
       "            <th>state</th>\n",
       "            <th>avg_tuition</th>\n",
       "        </tr>\n",
       "    </thead>\n",
       "    <tbody>\n",
       "        <tr>\n",
       "            <td>Vermont</td>\n",
       "            <td>29341.0</td>\n",
       "        </tr>\n",
       "        <tr>\n",
       "            <td>Connecticut</td>\n",
       "            <td>27509.0</td>\n",
       "        </tr>\n",
       "        <tr>\n",
       "            <td>Massachusetts</td>\n",
       "            <td>27267.0</td>\n",
       "        </tr>\n",
       "        <tr>\n",
       "            <td>Rhode Island</td>\n",
       "            <td>26351.0</td>\n",
       "        </tr>\n",
       "        <tr>\n",
       "            <td>New Hampshire</td>\n",
       "            <td>26129.0</td>\n",
       "        </tr>\n",
       "        <tr>\n",
       "            <td>Pennsylvania</td>\n",
       "            <td>25827.0</td>\n",
       "        </tr>\n",
       "        <tr>\n",
       "            <td>District of Columbia</td>\n",
       "            <td>25416.0</td>\n",
       "        </tr>\n",
       "        <tr>\n",
       "            <td>New Jersey</td>\n",
       "            <td>25022.0</td>\n",
       "        </tr>\n",
       "        <tr>\n",
       "            <td>Oregon</td>\n",
       "            <td>24508.0</td>\n",
       "        </tr>\n",
       "        <tr>\n",
       "            <td>Maryland</td>\n",
       "            <td>24191.0</td>\n",
       "        </tr>\n",
       "    </tbody>\n",
       "</table>"
      ],
      "text/plain": [
       "[('Vermont', 29341.0),\n",
       " ('Connecticut', 27509.0),\n",
       " ('Massachusetts', 27267.0),\n",
       " ('Rhode Island', 26351.0),\n",
       " ('New Hampshire', 26129.0),\n",
       " ('Pennsylvania', 25827.0),\n",
       " ('District of Columbia', 25416.0),\n",
       " ('New Jersey', 25022.0),\n",
       " ('Oregon', 24508.0),\n",
       " ('Maryland', 24191.0)]"
      ]
     },
     "execution_count": 287,
     "metadata": {},
     "output_type": "execute_result"
    }
   ],
   "source": [
    "%%sql\n",
    "SELECT state, ROUND(AVG(total_cost)) as avg_tuition\n",
    "FROM costs\n",
    "GROUP BY 1\n",
    "ORDER BY 2 DESC\n",
    "LIMIT 10;"
   ]
  },
  {
   "cell_type": "code",
   "execution_count": 278,
   "id": "5c3f2c05",
   "metadata": {
    "scrolled": false
   },
   "outputs": [
    {
     "name": "stdout",
     "output_type": "stream",
     "text": [
      "   sqlite:///'costs.db'\n",
      "   sqlite:///'jupyter_sqlite.db'\n",
      " * sqlite:///my_jupyter.db\n",
      "Done.\n"
     ]
    },
    {
     "data": {
      "text/html": [
       "<table>\n",
       "    <thead>\n",
       "        <tr>\n",
       "            <th>state</th>\n",
       "            <th>avg_tuition</th>\n",
       "        </tr>\n",
       "    </thead>\n",
       "    <tbody>\n",
       "        <tr>\n",
       "            <td>Delaware</td>\n",
       "            <td>23569.0</td>\n",
       "        </tr>\n",
       "        <tr>\n",
       "            <td>Vermont</td>\n",
       "            <td>23122.0</td>\n",
       "        </tr>\n",
       "        <tr>\n",
       "            <td>New Hampshire</td>\n",
       "            <td>21748.0</td>\n",
       "        </tr>\n",
       "        <tr>\n",
       "            <td>Connecticut</td>\n",
       "            <td>21047.0</td>\n",
       "        </tr>\n",
       "        <tr>\n",
       "            <td>Virginia</td>\n",
       "            <td>19742.0</td>\n",
       "        </tr>\n",
       "        <tr>\n",
       "            <td>Massachusetts</td>\n",
       "            <td>19690.0</td>\n",
       "        </tr>\n",
       "        <tr>\n",
       "            <td>Rhode Island</td>\n",
       "            <td>19642.0</td>\n",
       "        </tr>\n",
       "        <tr>\n",
       "            <td>Pennsylvania</td>\n",
       "            <td>19390.0</td>\n",
       "        </tr>\n",
       "        <tr>\n",
       "            <td>New Jersey</td>\n",
       "            <td>19216.0</td>\n",
       "        </tr>\n",
       "        <tr>\n",
       "            <td>Illinois</td>\n",
       "            <td>19062.0</td>\n",
       "        </tr>\n",
       "    </tbody>\n",
       "</table>"
      ],
      "text/plain": [
       "[('Delaware', 23569.0),\n",
       " ('Vermont', 23122.0),\n",
       " ('New Hampshire', 21748.0),\n",
       " ('Connecticut', 21047.0),\n",
       " ('Virginia', 19742.0),\n",
       " ('Massachusetts', 19690.0),\n",
       " ('Rhode Island', 19642.0),\n",
       " ('Pennsylvania', 19390.0),\n",
       " ('New Jersey', 19216.0),\n",
       " ('Illinois', 19062.0)]"
      ]
     },
     "execution_count": 278,
     "metadata": {},
     "output_type": "execute_result"
    }
   ],
   "source": [
    "%%sql\n",
    "SELECT state, ROUND(AVG(total_cost)) as avg_tuition\n",
    "FROM costs\n",
    "WHERE type LIKE 'Pu%'\n",
    "GROUP BY 1\n",
    "ORDER BY 2 DESC\n",
    "LIMIT 10;"
   ]
  },
  {
   "cell_type": "code",
   "execution_count": 286,
   "id": "70283eda",
   "metadata": {
    "scrolled": false
   },
   "outputs": [
    {
     "name": "stdout",
     "output_type": "stream",
     "text": [
      "   sqlite:///'costs.db'\n",
      "   sqlite:///'jupyter_sqlite.db'\n",
      " * sqlite:///my_jupyter.db\n",
      "Done.\n"
     ]
    },
    {
     "data": {
      "text/html": [
       "<table>\n",
       "    <thead>\n",
       "        <tr>\n",
       "            <th>state</th>\n",
       "            <th>avg_tuition</th>\n",
       "        </tr>\n",
       "    </thead>\n",
       "    <tbody>\n",
       "        <tr>\n",
       "            <td>Idaho</td>\n",
       "            <td>13445.0</td>\n",
       "        </tr>\n",
       "        <tr>\n",
       "            <td>Utah</td>\n",
       "            <td>15486.0</td>\n",
       "        </tr>\n",
       "        <tr>\n",
       "            <td>Wyoming</td>\n",
       "            <td>16638.0</td>\n",
       "        </tr>\n",
       "        <tr>\n",
       "            <td>West Virginia</td>\n",
       "            <td>20836.0</td>\n",
       "        </tr>\n",
       "        <tr>\n",
       "            <td>North Dakota</td>\n",
       "            <td>21125.0</td>\n",
       "        </tr>\n",
       "        <tr>\n",
       "            <td>Arizona</td>\n",
       "            <td>21910.0</td>\n",
       "        </tr>\n",
       "        <tr>\n",
       "            <td>Mississippi</td>\n",
       "            <td>24640.0</td>\n",
       "        </tr>\n",
       "        <tr>\n",
       "            <td>Alabama</td>\n",
       "            <td>25124.0</td>\n",
       "        </tr>\n",
       "        <tr>\n",
       "            <td>Delaware</td>\n",
       "            <td>25680.0</td>\n",
       "        </tr>\n",
       "        <tr>\n",
       "            <td>Alaska</td>\n",
       "            <td>27664.0</td>\n",
       "        </tr>\n",
       "    </tbody>\n",
       "</table>"
      ],
      "text/plain": [
       "[('Idaho', 13445.0),\n",
       " ('Utah', 15486.0),\n",
       " ('Wyoming', 16638.0),\n",
       " ('West Virginia', 20836.0),\n",
       " ('North Dakota', 21125.0),\n",
       " ('Arizona', 21910.0),\n",
       " ('Mississippi', 24640.0),\n",
       " ('Alabama', 25124.0),\n",
       " ('Delaware', 25680.0),\n",
       " ('Alaska', 27664.0)]"
      ]
     },
     "execution_count": 286,
     "metadata": {},
     "output_type": "execute_result"
    }
   ],
   "source": [
    "%%sql\n",
    "SELECT state, ROUND(AVG(total_cost)) as avg_tuition\n",
    "FROM costs\n",
    "WHERE type LIKE 'Pr%'\n",
    "GROUP BY 1\n",
    "ORDER BY 2\n",
    "LIMIT 10;"
   ]
  },
  {
   "cell_type": "code",
   "execution_count": 289,
   "id": "bf35950b",
   "metadata": {
    "scrolled": false
   },
   "outputs": [
    {
     "name": "stdout",
     "output_type": "stream",
     "text": [
      "   sqlite:///'costs.db'\n",
      "   sqlite:///'jupyter_sqlite.db'\n",
      " * sqlite:///my_jupyter.db\n",
      "Done.\n"
     ]
    },
    {
     "data": {
      "text/html": [
       "<table>\n",
       "    <thead>\n",
       "        <tr>\n",
       "            <th>state</th>\n",
       "            <th>avg_tuition</th>\n",
       "        </tr>\n",
       "    </thead>\n",
       "    <tbody>\n",
       "        <tr>\n",
       "            <td>Nebraska</td>\n",
       "            <td>3397.0</td>\n",
       "        </tr>\n",
       "        <tr>\n",
       "            <td>New Mexico</td>\n",
       "            <td>3483.0</td>\n",
       "        </tr>\n",
       "        <tr>\n",
       "            <td>Kansas</td>\n",
       "            <td>3826.0</td>\n",
       "        </tr>\n",
       "        <tr>\n",
       "            <td>Alaska</td>\n",
       "            <td>3834.0</td>\n",
       "        </tr>\n",
       "        <tr>\n",
       "            <td>Arkansas</td>\n",
       "            <td>3927.0</td>\n",
       "        </tr>\n",
       "        <tr>\n",
       "            <td>Mississippi</td>\n",
       "            <td>4025.0</td>\n",
       "        </tr>\n",
       "        <tr>\n",
       "            <td>Texas</td>\n",
       "            <td>4070.0</td>\n",
       "        </tr>\n",
       "        <tr>\n",
       "            <td>California</td>\n",
       "            <td>4279.0</td>\n",
       "        </tr>\n",
       "        <tr>\n",
       "            <td>Missouri</td>\n",
       "            <td>4587.0</td>\n",
       "        </tr>\n",
       "        <tr>\n",
       "            <td>Michigan</td>\n",
       "            <td>4899.0</td>\n",
       "        </tr>\n",
       "    </tbody>\n",
       "</table>"
      ],
      "text/plain": [
       "[('Nebraska', 3397.0),\n",
       " ('New Mexico', 3483.0),\n",
       " ('Kansas', 3826.0),\n",
       " ('Alaska', 3834.0),\n",
       " ('Arkansas', 3927.0),\n",
       " ('Mississippi', 4025.0),\n",
       " ('Texas', 4070.0),\n",
       " ('California', 4279.0),\n",
       " ('Missouri', 4587.0),\n",
       " ('Michigan', 4899.0)]"
      ]
     },
     "execution_count": 289,
     "metadata": {},
     "output_type": "execute_result"
    }
   ],
   "source": [
    "%%sql\n",
    "SELECT state, ROUND(AVG(total_cost)) as avg_tuition\n",
    "FROM costs\n",
    "WHERE type LIKE 'Pu%' AND length LIKE '2%'\n",
    "GROUP BY 1\n",
    "ORDER BY 2\n",
    "LIMIT 10;"
   ]
  },
  {
   "cell_type": "code",
   "execution_count": 288,
   "id": "8010af1c",
   "metadata": {
    "scrolled": false
   },
   "outputs": [
    {
     "name": "stdout",
     "output_type": "stream",
     "text": [
      "   sqlite:///'costs.db'\n",
      "   sqlite:///'jupyter_sqlite.db'\n",
      " * sqlite:///my_jupyter.db\n",
      "Done.\n"
     ]
    },
    {
     "data": {
      "text/html": [
       "<table>\n",
       "    <thead>\n",
       "        <tr>\n",
       "            <th>state</th>\n",
       "            <th>avg_tuition</th>\n",
       "        </tr>\n",
       "    </thead>\n",
       "    <tbody>\n",
       "        <tr>\n",
       "            <td>District of Columbia</td>\n",
       "            <td>9517.0</td>\n",
       "        </tr>\n",
       "        <tr>\n",
       "            <td>South Dakota</td>\n",
       "            <td>17061.0</td>\n",
       "        </tr>\n",
       "        <tr>\n",
       "            <td>Wyoming</td>\n",
       "            <td>18141.0</td>\n",
       "        </tr>\n",
       "        <tr>\n",
       "            <td>North Dakota</td>\n",
       "            <td>19434.0</td>\n",
       "        </tr>\n",
       "        <tr>\n",
       "            <td>Utah</td>\n",
       "            <td>19833.0</td>\n",
       "        </tr>\n",
       "        <tr>\n",
       "            <td>New Mexico</td>\n",
       "            <td>20224.0</td>\n",
       "        </tr>\n",
       "        <tr>\n",
       "            <td>Oklahoma</td>\n",
       "            <td>21045.0</td>\n",
       "        </tr>\n",
       "        <tr>\n",
       "            <td>Florida</td>\n",
       "            <td>21292.0</td>\n",
       "        </tr>\n",
       "        <tr>\n",
       "            <td>Arkansas</td>\n",
       "            <td>21648.0</td>\n",
       "        </tr>\n",
       "        <tr>\n",
       "            <td>Mississippi</td>\n",
       "            <td>21747.0</td>\n",
       "        </tr>\n",
       "    </tbody>\n",
       "</table>"
      ],
      "text/plain": [
       "[('District of Columbia', 9517.0),\n",
       " ('South Dakota', 17061.0),\n",
       " ('Wyoming', 18141.0),\n",
       " ('North Dakota', 19434.0),\n",
       " ('Utah', 19833.0),\n",
       " ('New Mexico', 20224.0),\n",
       " ('Oklahoma', 21045.0),\n",
       " ('Florida', 21292.0),\n",
       " ('Arkansas', 21648.0),\n",
       " ('Mississippi', 21747.0)]"
      ]
     },
     "execution_count": 288,
     "metadata": {},
     "output_type": "execute_result"
    }
   ],
   "source": [
    "%%sql\n",
    "SELECT state, ROUND(AVG(total_cost)) as avg_tuition\n",
    "FROM costs\n",
    "WHERE type LIKE 'Pu%' AND length LIKE '4%'\n",
    "GROUP BY 1\n",
    "ORDER BY 2\n",
    "LIMIT 10;"
   ]
  },
  {
   "cell_type": "markdown",
   "id": "1d7ac4e5",
   "metadata": {},
   "source": [
    "Calculate YOY percent change in tuition across all types of institutions."
   ]
  },
  {
   "cell_type": "code",
   "execution_count": 284,
   "id": "780c2891",
   "metadata": {},
   "outputs": [
    {
     "name": "stdout",
     "output_type": "stream",
     "text": [
      "   sqlite:///'costs.db'\n",
      "   sqlite:///'jupyter_sqlite.db'\n",
      " * sqlite:///my_jupyter.db\n",
      "Done.\n"
     ]
    },
    {
     "data": {
      "text/html": [
       "<table>\n",
       "    <thead>\n",
       "        <tr>\n",
       "            <th>year</th>\n",
       "            <th>avg_total_cost</th>\n",
       "            <th>percent_change</th>\n",
       "        </tr>\n",
       "    </thead>\n",
       "    <tbody>\n",
       "        <tr>\n",
       "            <td>2013</td>\n",
       "            <td>21184.0</td>\n",
       "            <td>None</td>\n",
       "        </tr>\n",
       "        <tr>\n",
       "            <td>2014</td>\n",
       "            <td>22038.0</td>\n",
       "            <td>4.03</td>\n",
       "        </tr>\n",
       "        <tr>\n",
       "            <td>2015</td>\n",
       "            <td>22710.0</td>\n",
       "            <td>3.05</td>\n",
       "        </tr>\n",
       "        <tr>\n",
       "            <td>2016</td>\n",
       "            <td>23717.0</td>\n",
       "            <td>4.44</td>\n",
       "        </tr>\n",
       "        <tr>\n",
       "            <td>2017</td>\n",
       "            <td>24723.0</td>\n",
       "            <td>4.24</td>\n",
       "        </tr>\n",
       "        <tr>\n",
       "            <td>2018</td>\n",
       "            <td>25830.0</td>\n",
       "            <td>4.48</td>\n",
       "        </tr>\n",
       "        <tr>\n",
       "            <td>2019</td>\n",
       "            <td>26467.0</td>\n",
       "            <td>2.47</td>\n",
       "        </tr>\n",
       "        <tr>\n",
       "            <td>2020</td>\n",
       "            <td>27415.0</td>\n",
       "            <td>3.58</td>\n",
       "        </tr>\n",
       "        <tr>\n",
       "            <td>2021</td>\n",
       "            <td>26490.0</td>\n",
       "            <td>-3.37</td>\n",
       "        </tr>\n",
       "    </tbody>\n",
       "</table>"
      ],
      "text/plain": [
       "[(2013, 21184.0, None),\n",
       " (2014, 22038.0, 4.03),\n",
       " (2015, 22710.0, 3.05),\n",
       " (2016, 23717.0, 4.44),\n",
       " (2017, 24723.0, 4.24),\n",
       " (2018, 25830.0, 4.48),\n",
       " (2019, 26467.0, 2.47),\n",
       " (2020, 27415.0, 3.58),\n",
       " (2021, 26490.0, -3.37)]"
      ]
     },
     "execution_count": 284,
     "metadata": {},
     "output_type": "execute_result"
    }
   ],
   "source": [
    "%%sql\n",
    "SELECT\n",
    "    year,\n",
    "    ROUND(AVG(total_cost)) AS avg_total_cost,\n",
    "    ROUND(((AVG(total_cost) - LAG(AVG(total_cost)) OVER (ORDER BY year)) / LAG(AVG(total_cost)) OVER (ORDER BY year)) * 100, 2) AS percent_change\n",
    "FROM costs\n",
    "WHERE state == 'Oregon'\n",
    "GROUP BY year;"
   ]
  },
  {
   "cell_type": "markdown",
   "id": "e7cd0354",
   "metadata": {},
   "source": [
    "### Conclusions\n",
    "<b>Tuition Trends</b></br>\n",
    "The cost of undergraduate education in the United States has risen at consistent rates between about 2.5% and 4% YOY. A notable exception occurs between 2020 and 2021, where cost dropped by 7.18%.\n",
    "\n",
    "Rates rose most aggressively among private institutions, rising at just under 3.5% per year. Even between 2020 and 2021 when the average cost among all universities dropped by 7.18%, private institutions rose by 1.34%.\n",
    "\n",
    "Public institutions rose at an average of 1.27% YOY (3.22% if excluding 2021). Among public institutions, tuition at 2-year universities rose at an average of 2.61% YOY from 2013-2020 compared with their 4-year counterparts, which rose at an average of 3.01% during this time frame. From 2020 to 2021, public 2-year tuition rose by 1.76% (even more than private institutions), while public 4-year tuition fell by 15.01%.\n",
    "\n",
    "<b>Tuition by State</b></br>\n",
    "Vermont has the highest tuition costs among all institution types and lengths at just over \\\\$29,300 per year. Wyoming has the lowest at just over \\\\$12,300 per year. \n",
    "\n",
    "Among private institutions, Massachusetts has the highest average tuition costs at around \\\\$57,500 per year. Idaho has the lowest at just over \\\\$13,400 per year.\n",
    "\n",
    "Among public 4-year institutions, Vermont has the highest average tuition at just under \\\\$37,000 per year, and Washington D.C. has the lowest at just over \\\\$9,500 per year.\n",
    "\n",
    "Among public 2-year institutions, New Hampshire has the highest average tuition at over \\\\$11,300 per year, and Nebraska has the lowest at just under \\\\$3,400 per year."
   ]
  },
  {
   "cell_type": "markdown",
   "id": "e7bea1e6",
   "metadata": {},
   "source": [
    "## A Note on Further Analysis\n",
    "Further analysis can be done to determine which states cost of college education is increasing or decrease most dramatically, and which states costs remain most stagnant. The scope of the project could also expand to include the cost of education worldwide."
   ]
  },
  {
   "cell_type": "markdown",
   "id": "b3ae2ffb",
   "metadata": {},
   "source": [
    "## IGNORE\n",
    "\n",
    "The following portion reformats the data for easier functionality in Tableau."
   ]
  },
  {
   "cell_type": "code",
   "execution_count": 26,
   "id": "2e5eb6b6",
   "metadata": {},
   "outputs": [],
   "source": [
    "# Group the dataframe by the desired columns and sum the 'Value' column\n",
    "grouped = cost_breakdown.groupby(['Year', 'State', 'Type', 'Length']).agg({'Value': 'sum'})"
   ]
  },
  {
   "cell_type": "code",
   "execution_count": 27,
   "id": "7cb04457",
   "metadata": {},
   "outputs": [],
   "source": [
    "# Reset the index to turn the grouped columns into regular columns\n",
    "grouped = grouped.reset_index()"
   ]
  },
  {
   "cell_type": "code",
   "execution_count": 28,
   "id": "f11d7470",
   "metadata": {},
   "outputs": [],
   "source": [
    "# Pivot the 'Expense' column into 2 columns using the 'Value' column as the values\n",
    "pivoted = cost_breakdown.pivot_table(index=['Year', 'State', 'Type', 'Length'], columns='Expense', values='Value')"
   ]
  },
  {
   "cell_type": "code",
   "execution_count": 29,
   "id": "69d9eb05",
   "metadata": {},
   "outputs": [],
   "source": [
    "# Reset the index to turn the grouped columns into regular columns\n",
    "pivoted = pivoted.reset_index()"
   ]
  },
  {
   "cell_type": "code",
   "execution_count": 30,
   "id": "5d33c656",
   "metadata": {},
   "outputs": [
    {
     "data": {
      "text/html": [
       "<div>\n",
       "<style scoped>\n",
       "    .dataframe tbody tr th:only-of-type {\n",
       "        vertical-align: middle;\n",
       "    }\n",
       "\n",
       "    .dataframe tbody tr th {\n",
       "        vertical-align: top;\n",
       "    }\n",
       "\n",
       "    .dataframe thead th {\n",
       "        text-align: right;\n",
       "    }\n",
       "</style>\n",
       "<table border=\"1\" class=\"dataframe\">\n",
       "  <thead>\n",
       "    <tr style=\"text-align: right;\">\n",
       "      <th></th>\n",
       "      <th>Year</th>\n",
       "      <th>State</th>\n",
       "      <th>Type</th>\n",
       "      <th>Length</th>\n",
       "      <th>Value</th>\n",
       "      <th>Fees/Tuition</th>\n",
       "      <th>Room/Board</th>\n",
       "    </tr>\n",
       "  </thead>\n",
       "  <tbody>\n",
       "    <tr>\n",
       "      <th>0</th>\n",
       "      <td>2013</td>\n",
       "      <td>Alabama</td>\n",
       "      <td>Private</td>\n",
       "      <td>4-year</td>\n",
       "      <td>22486</td>\n",
       "      <td>13983.0</td>\n",
       "      <td>8503.0</td>\n",
       "    </tr>\n",
       "    <tr>\n",
       "      <th>1</th>\n",
       "      <td>2013</td>\n",
       "      <td>Alabama</td>\n",
       "      <td>Public In-State</td>\n",
       "      <td>2-year</td>\n",
       "      <td>4048</td>\n",
       "      <td>4048.0</td>\n",
       "      <td>NaN</td>\n",
       "    </tr>\n",
       "    <tr>\n",
       "      <th>2</th>\n",
       "      <td>2013</td>\n",
       "      <td>Alabama</td>\n",
       "      <td>Public In-State</td>\n",
       "      <td>4-year</td>\n",
       "      <td>16546</td>\n",
       "      <td>8073.0</td>\n",
       "      <td>8473.0</td>\n",
       "    </tr>\n",
       "    <tr>\n",
       "      <th>3</th>\n",
       "      <td>2013</td>\n",
       "      <td>Alabama</td>\n",
       "      <td>Public Out-of-State</td>\n",
       "      <td>2-year</td>\n",
       "      <td>7736</td>\n",
       "      <td>7736.0</td>\n",
       "      <td>NaN</td>\n",
       "    </tr>\n",
       "    <tr>\n",
       "      <th>4</th>\n",
       "      <td>2013</td>\n",
       "      <td>Alabama</td>\n",
       "      <td>Public Out-of-State</td>\n",
       "      <td>4-year</td>\n",
       "      <td>28853</td>\n",
       "      <td>20380.0</td>\n",
       "      <td>8473.0</td>\n",
       "    </tr>\n",
       "  </tbody>\n",
       "</table>\n",
       "</div>"
      ],
      "text/plain": [
       "   Year    State                 Type  Length  Value  Fees/Tuition  Room/Board\n",
       "0  2013  Alabama              Private  4-year  22486       13983.0      8503.0\n",
       "1  2013  Alabama      Public In-State  2-year   4048        4048.0         NaN\n",
       "2  2013  Alabama      Public In-State  4-year  16546        8073.0      8473.0\n",
       "3  2013  Alabama  Public Out-of-State  2-year   7736        7736.0         NaN\n",
       "4  2013  Alabama  Public Out-of-State  4-year  28853       20380.0      8473.0"
      ]
     },
     "execution_count": 30,
     "metadata": {},
     "output_type": "execute_result"
    }
   ],
   "source": [
    "# Merge the two dataframes using the common columns\n",
    "result = pd.merge(grouped, pivoted, on=['Year', 'State', 'Type', 'Length'])\n",
    "\n",
    "result.head()"
   ]
  },
  {
   "cell_type": "code",
   "execution_count": 34,
   "id": "e3ec5bf8",
   "metadata": {},
   "outputs": [
    {
     "data": {
      "text/html": [
       "<div>\n",
       "<style scoped>\n",
       "    .dataframe tbody tr th:only-of-type {\n",
       "        vertical-align: middle;\n",
       "    }\n",
       "\n",
       "    .dataframe tbody tr th {\n",
       "        vertical-align: top;\n",
       "    }\n",
       "\n",
       "    .dataframe thead th {\n",
       "        text-align: right;\n",
       "    }\n",
       "</style>\n",
       "<table border=\"1\" class=\"dataframe\">\n",
       "  <thead>\n",
       "    <tr style=\"text-align: right;\">\n",
       "      <th></th>\n",
       "      <th>year</th>\n",
       "      <th>state</th>\n",
       "      <th>type</th>\n",
       "      <th>length</th>\n",
       "      <th>tuition</th>\n",
       "      <th>room_board</th>\n",
       "      <th>total_cost</th>\n",
       "    </tr>\n",
       "  </thead>\n",
       "  <tbody>\n",
       "    <tr>\n",
       "      <th>0</th>\n",
       "      <td>2013</td>\n",
       "      <td>Alabama</td>\n",
       "      <td>Private</td>\n",
       "      <td>4-year</td>\n",
       "      <td>13983.0</td>\n",
       "      <td>8503.0</td>\n",
       "      <td>22486</td>\n",
       "    </tr>\n",
       "    <tr>\n",
       "      <th>1</th>\n",
       "      <td>2013</td>\n",
       "      <td>Alabama</td>\n",
       "      <td>Public In-State</td>\n",
       "      <td>2-year</td>\n",
       "      <td>4048.0</td>\n",
       "      <td>NaN</td>\n",
       "      <td>4048</td>\n",
       "    </tr>\n",
       "    <tr>\n",
       "      <th>2</th>\n",
       "      <td>2013</td>\n",
       "      <td>Alabama</td>\n",
       "      <td>Public In-State</td>\n",
       "      <td>4-year</td>\n",
       "      <td>8073.0</td>\n",
       "      <td>8473.0</td>\n",
       "      <td>16546</td>\n",
       "    </tr>\n",
       "    <tr>\n",
       "      <th>3</th>\n",
       "      <td>2013</td>\n",
       "      <td>Alabama</td>\n",
       "      <td>Public Out-of-State</td>\n",
       "      <td>2-year</td>\n",
       "      <td>7736.0</td>\n",
       "      <td>NaN</td>\n",
       "      <td>7736</td>\n",
       "    </tr>\n",
       "    <tr>\n",
       "      <th>4</th>\n",
       "      <td>2013</td>\n",
       "      <td>Alabama</td>\n",
       "      <td>Public Out-of-State</td>\n",
       "      <td>4-year</td>\n",
       "      <td>20380.0</td>\n",
       "      <td>8473.0</td>\n",
       "      <td>28853</td>\n",
       "    </tr>\n",
       "  </tbody>\n",
       "</table>\n",
       "</div>"
      ],
      "text/plain": [
       "   year    state                 type  length  tuition  room_board  total_cost\n",
       "0  2013  Alabama              Private  4-year  13983.0      8503.0       22486\n",
       "1  2013  Alabama      Public In-State  2-year   4048.0         NaN        4048\n",
       "2  2013  Alabama      Public In-State  4-year   8073.0      8473.0       16546\n",
       "3  2013  Alabama  Public Out-of-State  2-year   7736.0         NaN        7736\n",
       "4  2013  Alabama  Public Out-of-State  4-year  20380.0      8473.0       28853"
      ]
     },
     "execution_count": 34,
     "metadata": {},
     "output_type": "execute_result"
    }
   ],
   "source": [
    "# Rename the columns to match the desired output\n",
    "result = result.rename(columns={'Year': 'year', 'State': 'state', 'Type': 'type', 'Length': 'length', 'Value': 'total_cost', 'Fees/Tuition': 'tuition', 'Room/Board': 'room_board'})\n",
    "\n",
    "result.head()"
   ]
  },
  {
   "cell_type": "code",
   "execution_count": 35,
   "id": "64827561",
   "metadata": {},
   "outputs": [],
   "source": [
    "# Reorder the columns to match the desired output\n",
    "result = result[['year', 'state', 'type', 'length', 'tuition', 'room_board', 'total_cost']]"
   ]
  },
  {
   "cell_type": "code",
   "execution_count": 36,
   "id": "5b58fff1",
   "metadata": {},
   "outputs": [
    {
     "data": {
      "text/html": [
       "<div>\n",
       "<style scoped>\n",
       "    .dataframe tbody tr th:only-of-type {\n",
       "        vertical-align: middle;\n",
       "    }\n",
       "\n",
       "    .dataframe tbody tr th {\n",
       "        vertical-align: top;\n",
       "    }\n",
       "\n",
       "    .dataframe thead th {\n",
       "        text-align: right;\n",
       "    }\n",
       "</style>\n",
       "<table border=\"1\" class=\"dataframe\">\n",
       "  <thead>\n",
       "    <tr style=\"text-align: right;\">\n",
       "      <th></th>\n",
       "      <th>year</th>\n",
       "      <th>state</th>\n",
       "      <th>type</th>\n",
       "      <th>length</th>\n",
       "      <th>tuition</th>\n",
       "      <th>room_board</th>\n",
       "      <th>total_cost</th>\n",
       "    </tr>\n",
       "  </thead>\n",
       "  <tbody>\n",
       "    <tr>\n",
       "      <th>0</th>\n",
       "      <td>2013</td>\n",
       "      <td>Alabama</td>\n",
       "      <td>Private</td>\n",
       "      <td>4-year</td>\n",
       "      <td>13983.0</td>\n",
       "      <td>8503.0</td>\n",
       "      <td>22486</td>\n",
       "    </tr>\n",
       "    <tr>\n",
       "      <th>1</th>\n",
       "      <td>2013</td>\n",
       "      <td>Alabama</td>\n",
       "      <td>Public In-State</td>\n",
       "      <td>2-year</td>\n",
       "      <td>4048.0</td>\n",
       "      <td>NaN</td>\n",
       "      <td>4048</td>\n",
       "    </tr>\n",
       "    <tr>\n",
       "      <th>2</th>\n",
       "      <td>2013</td>\n",
       "      <td>Alabama</td>\n",
       "      <td>Public In-State</td>\n",
       "      <td>4-year</td>\n",
       "      <td>8073.0</td>\n",
       "      <td>8473.0</td>\n",
       "      <td>16546</td>\n",
       "    </tr>\n",
       "    <tr>\n",
       "      <th>3</th>\n",
       "      <td>2013</td>\n",
       "      <td>Alabama</td>\n",
       "      <td>Public Out-of-State</td>\n",
       "      <td>2-year</td>\n",
       "      <td>7736.0</td>\n",
       "      <td>NaN</td>\n",
       "      <td>7736</td>\n",
       "    </tr>\n",
       "    <tr>\n",
       "      <th>4</th>\n",
       "      <td>2013</td>\n",
       "      <td>Alabama</td>\n",
       "      <td>Public Out-of-State</td>\n",
       "      <td>4-year</td>\n",
       "      <td>20380.0</td>\n",
       "      <td>8473.0</td>\n",
       "      <td>28853</td>\n",
       "    </tr>\n",
       "  </tbody>\n",
       "</table>\n",
       "</div>"
      ],
      "text/plain": [
       "   year    state                 type  length  tuition  room_board  total_cost\n",
       "0  2013  Alabama              Private  4-year  13983.0      8503.0       22486\n",
       "1  2013  Alabama      Public In-State  2-year   4048.0         NaN        4048\n",
       "2  2013  Alabama      Public In-State  4-year   8073.0      8473.0       16546\n",
       "3  2013  Alabama  Public Out-of-State  2-year   7736.0         NaN        7736\n",
       "4  2013  Alabama  Public Out-of-State  4-year  20380.0      8473.0       28853"
      ]
     },
     "execution_count": 36,
     "metadata": {},
     "output_type": "execute_result"
    }
   ],
   "source": [
    "result.head()"
   ]
  },
  {
   "cell_type": "code",
   "execution_count": 37,
   "id": "20e5a7b8",
   "metadata": {},
   "outputs": [
    {
     "data": {
      "text/html": [
       "<div>\n",
       "<style scoped>\n",
       "    .dataframe tbody tr th:only-of-type {\n",
       "        vertical-align: middle;\n",
       "    }\n",
       "\n",
       "    .dataframe tbody tr th {\n",
       "        vertical-align: top;\n",
       "    }\n",
       "\n",
       "    .dataframe thead th {\n",
       "        text-align: right;\n",
       "    }\n",
       "</style>\n",
       "<table border=\"1\" class=\"dataframe\">\n",
       "  <thead>\n",
       "    <tr style=\"text-align: right;\">\n",
       "      <th></th>\n",
       "      <th>year</th>\n",
       "      <th>state</th>\n",
       "      <th>type</th>\n",
       "      <th>length</th>\n",
       "      <th>tuition</th>\n",
       "      <th>room_board</th>\n",
       "      <th>total_cost</th>\n",
       "    </tr>\n",
       "  </thead>\n",
       "  <tbody>\n",
       "    <tr>\n",
       "      <th>0</th>\n",
       "      <td>2013</td>\n",
       "      <td>Alabama</td>\n",
       "      <td>Private</td>\n",
       "      <td>4-year</td>\n",
       "      <td>13983.0</td>\n",
       "      <td>8503.0</td>\n",
       "      <td>22486</td>\n",
       "    </tr>\n",
       "    <tr>\n",
       "      <th>1</th>\n",
       "      <td>2013</td>\n",
       "      <td>Alabama</td>\n",
       "      <td>Public In-State</td>\n",
       "      <td>2-year</td>\n",
       "      <td>4048.0</td>\n",
       "      <td>0.0</td>\n",
       "      <td>4048</td>\n",
       "    </tr>\n",
       "    <tr>\n",
       "      <th>2</th>\n",
       "      <td>2013</td>\n",
       "      <td>Alabama</td>\n",
       "      <td>Public In-State</td>\n",
       "      <td>4-year</td>\n",
       "      <td>8073.0</td>\n",
       "      <td>8473.0</td>\n",
       "      <td>16546</td>\n",
       "    </tr>\n",
       "    <tr>\n",
       "      <th>3</th>\n",
       "      <td>2013</td>\n",
       "      <td>Alabama</td>\n",
       "      <td>Public Out-of-State</td>\n",
       "      <td>2-year</td>\n",
       "      <td>7736.0</td>\n",
       "      <td>0.0</td>\n",
       "      <td>7736</td>\n",
       "    </tr>\n",
       "    <tr>\n",
       "      <th>4</th>\n",
       "      <td>2013</td>\n",
       "      <td>Alabama</td>\n",
       "      <td>Public Out-of-State</td>\n",
       "      <td>4-year</td>\n",
       "      <td>20380.0</td>\n",
       "      <td>8473.0</td>\n",
       "      <td>28853</td>\n",
       "    </tr>\n",
       "  </tbody>\n",
       "</table>\n",
       "</div>"
      ],
      "text/plain": [
       "   year    state                 type  length  tuition  room_board  total_cost\n",
       "0  2013  Alabama              Private  4-year  13983.0      8503.0       22486\n",
       "1  2013  Alabama      Public In-State  2-year   4048.0         0.0        4048\n",
       "2  2013  Alabama      Public In-State  4-year   8073.0      8473.0       16546\n",
       "3  2013  Alabama  Public Out-of-State  2-year   7736.0         0.0        7736\n",
       "4  2013  Alabama  Public Out-of-State  4-year  20380.0      8473.0       28853"
      ]
     },
     "execution_count": 37,
     "metadata": {},
     "output_type": "execute_result"
    }
   ],
   "source": [
    "result['room_board'] = result['room_board'].fillna(0)"
   ]
  },
  {
   "cell_type": "code",
   "execution_count": 38,
   "id": "61a98ce8",
   "metadata": {},
   "outputs": [],
   "source": [
    "result.to_csv('undergrad_data.csv', index=False)"
   ]
  }
 ],
 "metadata": {
  "kernelspec": {
   "display_name": "Python 3 (ipykernel)",
   "language": "python",
   "name": "python3"
  },
  "language_info": {
   "codemirror_mode": {
    "name": "ipython",
    "version": 3
   },
   "file_extension": ".py",
   "mimetype": "text/x-python",
   "name": "python",
   "nbconvert_exporter": "python",
   "pygments_lexer": "ipython3",
   "version": "3.9.13"
  }
 },
 "nbformat": 4,
 "nbformat_minor": 5
}
